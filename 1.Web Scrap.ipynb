{
 "cells": [
  {
   "cell_type": "code",
   "execution_count": 1,
   "id": "2267c585",
   "metadata": {},
   "outputs": [],
   "source": [
    "from bs4 import BeautifulSoup\n",
    "import bs4\n",
    "import requests\n",
    "import time\n",
    "import pandas as pd\n",
    "import numpy as np"
   ]
  },
  {
   "cell_type": "code",
   "execution_count": 2,
   "id": "a6044516",
   "metadata": {},
   "outputs": [],
   "source": [
    "#!pip show webdriver-manager\n",
    "#!pip install webdriver-manager==4.0.2"
   ]
  },
  {
   "cell_type": "code",
   "execution_count": 3,
   "id": "e52bd83b",
   "metadata": {},
   "outputs": [],
   "source": [
    "from selenium import webdriver\n",
    "driver = webdriver.Chrome()"
   ]
  },
  {
   "cell_type": "code",
   "execution_count": null,
   "id": "8fb907d7",
   "metadata": {},
   "outputs": [],
   "source": []
  },
  {
   "cell_type": "code",
   "execution_count": 4,
   "id": "561c996f",
   "metadata": {},
   "outputs": [],
   "source": [
    "from selenium.webdriver.common.by import By\n",
    "links = []\n",
    "for i in range(1,5):\n",
    "    PAGE = str(i)\n",
    "    URL = \"https://id.jobstreet.com/id/data-analyst-jobs?page=\" + PAGE\n",
    "    driver.get(URL)\n",
    "    aTags = driver.find_elements(By.CSS_SELECTOR, 'a[data-automation=\"jobTitle\"]')\n",
    "    for a in aTags:\n",
    "        links.append(a.get_attribute('href'))"
   ]
  },
  {
   "cell_type": "code",
   "execution_count": null,
   "id": "846caedb",
   "metadata": {},
   "outputs": [],
   "source": [
    "desc = []\n",
    "title = []\n",
    "company = []\n",
    "\n",
    "for link in links:\n",
    "    driver.get(link)  \n",
    "    \n",
    "    h1Tags = driver.find_elements(By.CSS_SELECTOR, 'H1[data-automation=\"job-detail-title\"]')\n",
    "    if h1Tags:\n",
    "        title.append(h1Tags[0].text) \n",
    "    else:\n",
    "        title.append(None) \n",
    "\n",
    "    spanTags = driver.find_elements(By.CSS_SELECTOR, 'span[data-automation=\"advertiser-name\"]')\n",
    "    if spanTags:\n",
    "        company.append(spanTags[0].text) \n",
    "    else:\n",
    "        company.append(None)  \n",
    "\n",
    "    descText = \"\"\n",
    "    jobDetailsDiv = driver.find_elements(By.CSS_SELECTOR, 'div[data-automation=\"jobAdDetails\"]')\n",
    "    \n",
    "    if jobDetailsDiv:\n",
    "        for detail in jobDetailsDiv:\n",
    "            for strong in detail.find_elements(By.TAG_NAME, 'strong'):\n",
    "                descText += strong.text + \": \"\n",
    "            for p in detail.find_elements(By.TAG_NAME, 'p'):\n",
    "                descText += p.text + \" \"\n",
    "            for li in detail.find_elements(By.TAG_NAME, 'li'):\n",
    "                descText += li.text + \" | \"\n",
    "        \n",
    "        descText = descText.strip(\" | \")\n",
    "    else:\n",
    "        descText = None\n",
    "    \n",
    "    desc.append(descText) \n"
   ]
  },
  {
   "cell_type": "code",
   "execution_count": null,
   "id": "075cb3a8",
   "metadata": {},
   "outputs": [],
   "source": [
    "data = {\n",
    "    'Title': title,\n",
    "    'Company': company,\n",
    "    'Description': desc\n",
    "}\n",
    "df = pd.DataFrame(data)"
   ]
  },
  {
   "cell_type": "code",
   "execution_count": null,
   "id": "329ccbc6",
   "metadata": {},
   "outputs": [],
   "source": [
    "df"
   ]
  },
  {
   "cell_type": "code",
   "execution_count": null,
   "id": "d748d4a7",
   "metadata": {},
   "outputs": [],
   "source": [
    "df.to_csv('./Data/job_listings_DA.csv', index=False)"
   ]
  },
  {
   "cell_type": "code",
   "execution_count": 19,
   "id": "1be1e2d7",
   "metadata": {},
   "outputs": [],
   "source": [
    "#!pip install openpyxl"
   ]
  },
  {
   "cell_type": "code",
   "execution_count": 9,
   "id": "8646194c",
   "metadata": {},
   "outputs": [],
   "source": [
    "df.to_excel('./Data/job_listings_DA.xlsx', index=False, engine='openpyxl')"
   ]
  },
  {
   "cell_type": "code",
   "execution_count": null,
   "id": "8e21da08",
   "metadata": {},
   "outputs": [],
   "source": []
  },
  {
   "cell_type": "code",
   "execution_count": null,
   "id": "867943ab",
   "metadata": {},
   "outputs": [],
   "source": []
  }
 ],
 "metadata": {
  "kernelspec": {
   "display_name": "Python 3 (ipykernel)",
   "language": "python",
   "name": "python3"
  },
  "language_info": {
   "codemirror_mode": {
    "name": "ipython",
    "version": 3
   },
   "file_extension": ".py",
   "mimetype": "text/x-python",
   "name": "python",
   "nbconvert_exporter": "python",
   "pygments_lexer": "ipython3",
   "version": "3.10.9"
  }
 },
 "nbformat": 4,
 "nbformat_minor": 5
}
